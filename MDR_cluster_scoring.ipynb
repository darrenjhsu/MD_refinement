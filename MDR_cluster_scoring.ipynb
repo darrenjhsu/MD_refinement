{
 "cells": [
  {
   "cell_type": "code",
   "execution_count": 1,
   "id": "ac799671-e26b-40f6-9e84-13dcf056d8f1",
   "metadata": {},
   "outputs": [
    {
     "name": "stdout",
     "output_type": "stream",
     "text": [
      "Can't load CuPy, contact fingerprint will not run\n"
     ]
    }
   ],
   "source": [
    "import os, sys, gc\n",
    "sys.path.insert(1, os.path.join(sys.path[0], '../../MDR_analysis/'))\n",
    "sys.path.insert(1, os.path.join(sys.path[0], '../../test_contacts/contacts/contacts/'))\n",
    "# print(sys.path)\n",
    "from MDR_base import *\n",
    "import MDR_plot"
   ]
  },
  {
   "cell_type": "code",
   "execution_count": 2,
   "id": "982fa91d-32d7-48f4-b9dc-81ca81902ff4",
   "metadata": {},
   "outputs": [],
   "source": [
    "# If load dump\n",
    "# import pickle\n",
    "# with open('MDR_dump.pkl','rb') as f:\n",
    "#     MDR = pickle.load(f)"
   ]
  },
  {
   "cell_type": "code",
   "execution_count": 3,
   "id": "3657a160-7e92-464b-86cc-cd3774a8bfc4",
   "metadata": {},
   "outputs": [
    {
     "name": "stdout",
     "output_type": "stream",
     "text": [
      "In this dataset, there are:\n",
      "   44 different molecules\n",
      "  880 different poses\n",
      "   880 EM   |    44000 frames |      44.00 nanoseconds\n",
      "  1760 QR   |    88000 frames |    1760.00 nanoseconds |   485 qualified poses\n",
      "  9700 MD   |  1940000 frames |  194000.00 nanoseconds\n"
     ]
    }
   ],
   "source": [
    "MDR = MolecularDynamicsRefinement(simulationPrefixes=['EM','QR','MD'],ligand_res=58)\n",
    "MDR.createLigands()\n",
    "MDR.gatherMagnitude()"
   ]
  },
  {
   "cell_type": "code",
   "execution_count": 4,
   "id": "7ff543b9-eeb5-4d77-962b-0b665ee3a4df",
   "metadata": {
    "scrolled": true,
    "tags": []
   },
   "outputs": [
    {
     "name": "stdout",
     "output_type": "stream",
     "text": [
      "Loading PV-001792285514 successful\n",
      "Loading PV-001801306793 successful\n",
      "Loading PV-001841410851 successful\n",
      "Loading Z1096208223 successful\n",
      "Loading Z1096208227 successful\n",
      "Loading Z1096215707 successful\n",
      "Loading Z1096224236 successful\n",
      "Loading Z1096224331 successful\n",
      "Loading Z1096224815 successful\n",
      "Loading Z1096226468 successful\n",
      "Loading Z1530716281 successful\n",
      "Loading Z1530717425 successful\n",
      "Loading Z1530718726 successful\n",
      "Loading Z1530723212 successful\n",
      "Loading Z1530723244 successful\n",
      "Loading Z1530724813 successful\n",
      "Loading Z1530724846 successful\n",
      "Loading Z1530724963 successful\n",
      "Loading Z1530725178 successful\n",
      "Loading Z1530783858 successful\n",
      "Loading Z1530786342 successful\n",
      "Loading Z1530786956 successful\n",
      "Loading Z1530789835 successful\n",
      "Loading Z1530791178 successful\n",
      "Loading Z1530795629 successful\n",
      "Loading Z1530797787 successful\n",
      "Loading Z1530800067 successful\n",
      "Loading Z1530800272 successful\n",
      "Loading Z1552756239 successful\n",
      "Loading Z1554962222 successful\n",
      "Loading Z1593752771 successful\n",
      "Loading Z1593752786 successful\n",
      "Loading Z1651778975 successful\n",
      "Loading Z1651778988 successful\n",
      "Loading Z1689537848 successful\n",
      "Loading Z1692806105 successful\n",
      "Loading Z1715997312 successful\n",
      "Loading Z1743649707 successful\n",
      "Loading Z1832772406 successful\n",
      "Loading Z1852391924 successful\n",
      "Loading Z1927517858 successful\n",
      "Loading Z2033493182 successful\n",
      "Loading Z2044131801 successful\n",
      "Loading Z2206734379 successful\n",
      "MDR: Ligand PV-001792285514\n",
      "PV-001792285514 has processed RMSD, skip.\n",
      "Done with PV-001792285514 in 0.000 s (2.27 %) | Estimated remaining: 0 s\n",
      "MDR: Ligand PV-001801306793\n",
      "PV-001801306793 has processed RMSD, skip.\n",
      "Done with PV-001801306793 in 0.000 s (4.55 %) | Estimated remaining: 0 s\n",
      "MDR: Ligand PV-001841410851\n",
      "PV-001841410851 has processed RMSD, skip.\n",
      "Done with PV-001841410851 in 0.000 s (6.82 %) | Estimated remaining: 0 s\n",
      "MDR: Ligand Z1096208223\n",
      "Z1096208223 has processed RMSD, skip.\n",
      "Done with Z1096208223 in 0.001 s (9.09 %) | Estimated remaining: 0 s\n",
      "MDR: Ligand Z1096208227\n",
      "Z1096208227 has processed RMSD, skip.\n",
      "Done with Z1096208227 in 0.000 s (11.36 %) | Estimated remaining: 0 s\n",
      "MDR: Ligand Z1096215707\n",
      "Z1096215707 has processed RMSD, skip.\n",
      "Done with Z1096215707 in 0.000 s (13.64 %) | Estimated remaining: 0 s\n",
      "MDR: Ligand Z1096224236\n",
      "Z1096224236 has processed RMSD, skip.\n",
      "Done with Z1096224236 in 0.000 s (15.91 %) | Estimated remaining: 0 s\n",
      "MDR: Ligand Z1096224331\n",
      "Z1096224331 has processed RMSD, skip.\n",
      "Done with Z1096224331 in 0.000 s (18.18 %) | Estimated remaining: 0 s\n",
      "MDR: Ligand Z1096224815\n",
      "Z1096224815 has processed RMSD, skip.\n",
      "Done with Z1096224815 in 0.000 s (20.45 %) | Estimated remaining: 0 s\n",
      "MDR: Ligand Z1096226468\n",
      "Z1096226468 has processed RMSD, skip.\n",
      "Done with Z1096226468 in 0.001 s (22.73 %) | Estimated remaining: 0 s\n",
      "MDR: Ligand Z1530716281\n",
      "Z1530716281 has processed RMSD, skip.\n",
      "Done with Z1530716281 in 0.000 s (25.00 %) | Estimated remaining: 0 s\n",
      "MDR: Ligand Z1530717425\n",
      "Z1530717425 has processed RMSD, skip.\n",
      "Done with Z1530717425 in 0.000 s (27.27 %) | Estimated remaining: 0 s\n",
      "MDR: Ligand Z1530718726\n",
      "Z1530718726 has processed RMSD, skip.\n",
      "Done with Z1530718726 in 0.000 s (29.55 %) | Estimated remaining: 0 s\n",
      "MDR: Ligand Z1530723212\n",
      "Z1530723212 has processed RMSD, skip.\n",
      "Done with Z1530723212 in 0.000 s (31.82 %) | Estimated remaining: 0 s\n",
      "MDR: Ligand Z1530723244\n",
      "Z1530723244 has processed RMSD, skip.\n",
      "Done with Z1530723244 in 0.000 s (34.09 %) | Estimated remaining: 0 s\n",
      "MDR: Ligand Z1530724813\n",
      "Z1530724813 has processed RMSD, skip.\n",
      "Done with Z1530724813 in 0.000 s (36.36 %) | Estimated remaining: 0 s\n",
      "MDR: Ligand Z1530724846\n",
      "Z1530724846 has processed RMSD, skip.\n",
      "Done with Z1530724846 in 0.000 s (38.64 %) | Estimated remaining: 0 s\n",
      "MDR: Ligand Z1530724963\n",
      "Z1530724963 has processed RMSD, skip.\n",
      "Done with Z1530724963 in 0.000 s (40.91 %) | Estimated remaining: 0 s\n",
      "MDR: Ligand Z1530725178\n",
      "Z1530725178 has processed RMSD, skip.\n",
      "Done with Z1530725178 in 0.000 s (43.18 %) | Estimated remaining: 0 s\n",
      "MDR: Ligand Z1530783858\n",
      "Z1530783858 has processed RMSD, skip.\n",
      "Done with Z1530783858 in 0.000 s (45.45 %) | Estimated remaining: 0 s\n",
      "MDR: Ligand Z1530786342\n",
      "Z1530786342 has processed RMSD, skip.\n",
      "Done with Z1530786342 in 0.000 s (47.73 %) | Estimated remaining: 0 s\n",
      "MDR: Ligand Z1530786956\n",
      "Z1530786956 has processed RMSD, skip.\n",
      "Done with Z1530786956 in 0.000 s (50.00 %) | Estimated remaining: 0 s\n",
      "MDR: Ligand Z1530789835\n",
      "Z1530789835 has processed RMSD, skip.\n",
      "Done with Z1530789835 in 0.000 s (52.27 %) | Estimated remaining: 0 s\n",
      "MDR: Ligand Z1530791178\n",
      "Z1530791178 has processed RMSD, skip.\n",
      "Done with Z1530791178 in 0.000 s (54.55 %) | Estimated remaining: 0 s\n",
      "MDR: Ligand Z1530795629\n",
      "Z1530795629 has processed RMSD, skip.\n",
      "Done with Z1530795629 in 0.000 s (56.82 %) | Estimated remaining: 0 s\n",
      "MDR: Ligand Z1530797787\n",
      "Z1530797787 has processed RMSD, skip.\n",
      "Done with Z1530797787 in 0.000 s (59.09 %) | Estimated remaining: 0 s\n",
      "MDR: Ligand Z1530800067\n",
      "Z1530800067 has processed RMSD, skip.\n",
      "Done with Z1530800067 in 0.000 s (61.36 %) | Estimated remaining: 0 s\n",
      "MDR: Ligand Z1530800272\n",
      "Z1530800272 has processed RMSD, skip.\n",
      "Done with Z1530800272 in 0.000 s (63.64 %) | Estimated remaining: 0 s\n",
      "MDR: Ligand Z1552756239\n",
      "Z1552756239 has processed RMSD, skip.\n",
      "Done with Z1552756239 in 0.000 s (65.91 %) | Estimated remaining: 0 s\n",
      "MDR: Ligand Z1554962222\n",
      "Z1554962222 has processed RMSD, skip.\n",
      "Done with Z1554962222 in 0.000 s (68.18 %) | Estimated remaining: 0 s\n",
      "MDR: Ligand Z1593752771\n",
      "Z1593752771 has processed RMSD, skip.\n",
      "Done with Z1593752771 in 0.000 s (70.45 %) | Estimated remaining: 0 s\n",
      "MDR: Ligand Z1593752786\n",
      "Z1593752786 has processed RMSD, skip.\n",
      "Done with Z1593752786 in 0.000 s (72.73 %) | Estimated remaining: 0 s\n",
      "MDR: Ligand Z1651778975\n",
      "Z1651778975 has processed RMSD, skip.\n",
      "Done with Z1651778975 in 0.001 s (75.00 %) | Estimated remaining: 0 s\n",
      "MDR: Ligand Z1651778988\n",
      "Z1651778988 has processed RMSD, skip.\n",
      "Done with Z1651778988 in 0.000 s (77.27 %) | Estimated remaining: 0 s\n",
      "MDR: Ligand Z1689537848\n",
      "Z1689537848 has processed RMSD, skip.\n",
      "Done with Z1689537848 in 0.000 s (79.55 %) | Estimated remaining: 0 s\n",
      "MDR: Ligand Z1692806105\n",
      "Z1692806105 has processed RMSD, skip.\n",
      "Done with Z1692806105 in 0.000 s (81.82 %) | Estimated remaining: 0 s\n",
      "MDR: Ligand Z1715997312\n",
      "Z1715997312 has processed RMSD, skip.\n",
      "Done with Z1715997312 in 0.000 s (84.09 %) | Estimated remaining: 0 s\n",
      "MDR: Ligand Z1743649707\n",
      "Z1743649707 has processed RMSD, skip.\n",
      "Done with Z1743649707 in 0.000 s (86.36 %) | Estimated remaining: 0 s\n",
      "MDR: Ligand Z1832772406\n",
      "Z1832772406 has processed RMSD, skip.\n",
      "Done with Z1832772406 in 0.000 s (88.64 %) | Estimated remaining: 0 s\n",
      "MDR: Ligand Z1852391924\n",
      "Z1852391924 has processed RMSD, skip.\n",
      "Done with Z1852391924 in 0.000 s (90.91 %) | Estimated remaining: 0 s\n",
      "MDR: Ligand Z1927517858\n",
      "Z1927517858 has processed RMSD, skip.\n",
      "Done with Z1927517858 in 0.000 s (93.18 %) | Estimated remaining: 0 s\n",
      "MDR: Ligand Z2033493182\n",
      "Z2033493182 has processed RMSD, skip.\n",
      "Done with Z2033493182 in 0.000 s (95.45 %) | Estimated remaining: 0 s\n",
      "MDR: Ligand Z2044131801\n",
      "Z2044131801 has processed RMSD, skip.\n",
      "Done with Z2044131801 in 0.000 s (97.73 %) | Estimated remaining: 0 s\n",
      "MDR: Ligand Z2206734379\n",
      "Z2206734379 has processed RMSD, skip.\n",
      "Done with Z2206734379 in 0.000 s (100.00 %) | Estimated remaining: 0 s\n"
     ]
    }
   ],
   "source": [
    "MDR.calculateRMSD_parallel()"
   ]
  },
  {
   "cell_type": "code",
   "execution_count": 5,
   "id": "f7aac3bb-0b8f-46e1-815c-45b03f59fc64",
   "metadata": {},
   "outputs": [
    {
     "name": "stdout",
     "output_type": "stream",
     "text": [
      "Can't load CuPy, fall back to numba\n"
     ]
    },
    {
     "data": {
      "application/vnd.jupyter.widget-view+json": {
       "model_id": "ba0692118acc4bae81ec194f914b1e46",
       "version_major": 2,
       "version_minor": 0
      },
      "text/plain": []
     },
     "metadata": {},
     "output_type": "display_data"
    }
   ],
   "source": [
    "import MDR_cluster\n",
    "from MDR_cluster import gimme_best_pose"
   ]
  },
  {
   "cell_type": "code",
   "execution_count": 6,
   "id": "5bb16eab-7319-423d-87df-9c6459ec274d",
   "metadata": {},
   "outputs": [
    {
     "name": "stdout",
     "output_type": "stream",
     "text": [
      "dict_keys(['PV-001792285514', 'PV-001801306793', 'PV-001841410851', 'Z1096208223', 'Z1096208227', 'Z1096215707', 'Z1096224236', 'Z1096224331', 'Z1096224815', 'Z1096226468', 'Z1530716281', 'Z1530717425', 'Z1530718726', 'Z1530723212', 'Z1530723244', 'Z1530724813', 'Z1530724846', 'Z1530724963', 'Z1530725178', 'Z1530783858', 'Z1530786342', 'Z1530786956', 'Z1530789835', 'Z1530791178', 'Z1530795629', 'Z1530797787', 'Z1530800067', 'Z1530800272', 'Z1552756239', 'Z1554962222', 'Z1593752771', 'Z1593752786', 'Z1651778975', 'Z1651778988', 'Z1689537848', 'Z1692806105', 'Z1715997312', 'Z1743649707', 'Z1832772406', 'Z1852391924', 'Z1927517858', 'Z2033493182', 'Z2044131801', 'Z2206734379'])\n"
     ]
    }
   ],
   "source": [
    "print(MDR.Ligands.keys())"
   ]
  },
  {
   "cell_type": "code",
   "execution_count": 7,
   "id": "276c06b7-9ce9-4a3f-b0b6-ba56c77a1e37",
   "metadata": {
    "tags": []
   },
   "outputs": [],
   "source": [
    "# for i in range(20):\n",
    "# print(MDR.Ligands['Z1096208223'].Poses['13'].traj['MD'][1].RMSD)"
   ]
  },
  {
   "cell_type": "code",
   "execution_count": 8,
   "id": "c883acea-e188-43b9-b4d5-9ce9b27218cb",
   "metadata": {},
   "outputs": [],
   "source": [
    "# v"
   ]
  },
  {
   "cell_type": "code",
   "execution_count": 6,
   "id": "243512df-7a61-4e71-9c9f-e3ba5a1b3f77",
   "metadata": {
    "tags": []
   },
   "outputs": [
    {
     "name": "stdout",
     "output_type": "stream",
     "text": [
      "Can't load CuPy, fall back to numba\n",
      "Stride factor is 10 (number of frames: 5400)\n"
     ]
    },
    {
     "name": "stderr",
     "output_type": "stream",
     "text": [
      "OMP: Info #271: omp_set_nested routine deprecated, please use omp_set_max_active_levels instead.\n"
     ]
    },
    {
     "name": "stdout",
     "output_type": "stream",
     "text": [
      "RMSD calculation done on 5400 frames.\n",
      "Clustering done\n",
      "Selected clusters are: [2 1 9]\n",
      "RMSD of the clusters : [1.7199136144271994, 2.5696102452810416, 4.103762328858626] PASS\n",
      "Lowest possible RMSD : 1.9420556616098295\n"
     ]
    },
    {
     "data": {
      "application/vnd.jupyter.widget-view+json": {
       "model_id": "24fa3181faee4cadba6bf7b8f7db13b4",
       "version_major": 2,
       "version_minor": 0
      },
      "text/plain": [
       "NGLWidget()"
      ]
     },
     "metadata": {},
     "output_type": "display_data"
    }
   ],
   "source": [
    "test_this_one = 'Z1530718726' # The one with xtal structure\n",
    "# test_this_one = 'Z1530724963' # The one with xtal structure\n",
    "test_this_one = 'Z1530724813' # The one with xtal structure\n",
    "# test_this_one = 'Z1096208223' # the O in the ring faces His 163\n",
    "# test_this_one = 'Z1096208227'\n",
    "# test_this_one = 'Z1096215707'\n",
    "# test_this_one = 'Z1530725178'\n",
    "# test_this_one = 'Z1530786342'\n",
    "\n",
    "import MDR_cluster\n",
    "importlib.reload(MDR_cluster)\n",
    "from MDR_cluster import gimme_best_pose\n",
    "_, _, v, comp, actualComp = gimme_best_pose(MDR, ligand=test_this_one, top_select=3, plot=False, metric='vdW',\n",
    "                                min_size_multiplier=1, cluster_min_samples=10, eps=0.7, speed=5000, \n",
    "                                filter_dist=True, filter_dist_thres=10, show_pose=True,\n",
    "                                rank=None,outputPDB=False, ligand_res=58)\n",
    "v"
   ]
  },
  {
   "cell_type": "code",
   "execution_count": 7,
   "id": "26ec74fa-955c-42b6-8190-af54cd80f33a",
   "metadata": {},
   "outputs": [
    {
     "data": {
      "application/vnd.jupyter.widget-view+json": {
       "model_id": "f3b0ac1c760844ad883ab2a681147afb",
       "version_major": 2,
       "version_minor": 0
      },
      "text/plain": [
       "NGLWidget()"
      ]
     },
     "metadata": {},
     "output_type": "display_data"
    }
   ],
   "source": [
    "# Diagnosing poses\n",
    "import nglview\n",
    "from nglview.player import TrajectoryPlayer\n",
    "\n",
    "poseNum1 = 2\n",
    "poseNum2 = 2\n",
    "view = nglview.NGLWidget() \n",
    "view.camera = 'orthographic'\n",
    "colors = ['red','orange','yellow','green','blue','purple']\n",
    "c1 = view.add_trajectory(comp[poseNum1])\n",
    "c1.clear()\n",
    "\n",
    "c1.add_cartoon(selection=\"protein\", opacity=0.5)\n",
    "c1.add_licorice(selection='33')\n",
    "c1.add_licorice(selection=\"protein\",opacity=0.25)\n",
    "c1.add_ball_and_stick(selection='58',color='red',opacity=0.6)\n",
    "c2 = view.add_trajectory(actualComp[poseNum2])\n",
    "c2.clear()\n",
    "c2.add_licorice(selection=\"protein\", opacity=0.5)\n",
    "c2.add_ball_and_stick(selection='58',color='orange',opacity=0.6)\n",
    "\n",
    "view"
   ]
  },
  {
   "cell_type": "code",
   "execution_count": 8,
   "id": "ba70e59c-681c-4ea1-afe6-9cbb5a575323",
   "metadata": {},
   "outputs": [
    {
     "data": {
      "text/plain": [
       "{2: <mdtraj.Trajectory with 1 frames, 844 atoms, 59 residues, without unitcells at 0x7ffa740817c0>,\n",
       " 1: <mdtraj.Trajectory with 1 frames, 844 atoms, 59 residues, without unitcells at 0x7ffa6c43ec40>,\n",
       " 9: <mdtraj.Trajectory with 1 frames, 844 atoms, 59 residues, without unitcells at 0x7ffa6c322ca0>}"
      ]
     },
     "execution_count": 8,
     "metadata": {},
     "output_type": "execute_result"
    }
   ],
   "source": [
    "actualComp"
   ]
  },
  {
   "cell_type": "code",
   "execution_count": 10,
   "id": "ac55b4cd-029a-4d84-b345-abcf123d7b45",
   "metadata": {},
   "outputs": [
    {
     "name": "stdout",
     "output_type": "stream",
     "text": [
      "1.7169975\n",
      "[2.2702675  1.1719202  4.006734   1.0139068  1.1704211  1.2769855\n",
      " 1.1248013  0.9183547  1.0256782  0.7270056  0.69153136 0.21116583\n",
      " 0.41445038 1.8369589  1.5571941  1.2314402  1.4392672  1.7176532\n",
      " 2.283272   2.3453474  3.1727297  1.6671785  1.4256454  1.2372212\n",
      " 1.2368665  1.0298942  0.12828404 0.5166857  2.0594873  1.8509327\n",
      " 1.5123756  1.8298546  2.07747    3.0475755 ]\n"
     ]
    }
   ],
   "source": [
    "selected_cluster = 2\n",
    "sc = selected_cluster\n",
    "selectComp = actualComp\n",
    "\n",
    "selectComp[sc].top.select('resid 58')\n",
    "crystalComp = md.load(MDR.Ligands[test_this_one].crystalPose, top=MDR.Ligands[test_this_one].prmtop)\n",
    "\n",
    "print(np.sqrt(np.mean(((selectComp[sc].xyz[0][selectComp[sc].top.select('resid 58')]*10 - \\\n",
    "  crystalComp.xyz[0][crystalComp.top.select('resid 58')]*10)**2).sum(1))))\n",
    "\n",
    "print(np.sqrt(((selectComp[sc].xyz[0][selectComp[sc].top.select('resid 58')]*10 - \\\n",
    "  crystalComp.xyz[0][crystalComp.top.select('resid 58')]*10)**2).sum(1)))\n",
    "\n",
    "b_factor = np.concatenate(\n",
    "    (selectComp[sc].top.select('not resid 58')*0,\n",
    "    np.sqrt(((selectComp[sc].xyz[0][selectComp[sc].top.select('resid 58')]*10 - \\\n",
    "  crystalComp.xyz[0][crystalComp.top.select('resid 58')]*10)**2).sum(1)) )\n",
    ")"
   ]
  },
  {
   "cell_type": "code",
   "execution_count": 11,
   "id": "5820fc35-66ce-49e9-a35c-5b3a6c43acd5",
   "metadata": {},
   "outputs": [],
   "source": [
    "selectComp[sc][0].save_pdb(f'show_RMSD_{test_this_one}_cluster_{sc}_actualComp.pdb',bfactors=b_factor)"
   ]
  },
  {
   "cell_type": "code",
   "execution_count": 21,
   "id": "30365f3b-6c05-4599-9f30-bd9836712973",
   "metadata": {},
   "outputs": [
    {
     "data": {
      "text/plain": [
       "array([2.7794764 , 1.3083025 , 4.785302  , 0.941958  , 0.8913795 ,\n",
       "       0.9289364 , 0.76381725, 0.5368003 , 0.63921964, 0.6905866 ,\n",
       "       0.909492  , 0.9505838 , 0.8825516 , 2.3753839 , 2.8946993 ,\n",
       "       2.3394773 , 3.662856  , 3.665063  , 2.2066846 , 5.7103863 ,\n",
       "       2.6442063 , 2.738304  , 2.0122237 , 1.1674339 , 1.0564097 ,\n",
       "       1.0686332 , 1.2513686 , 1.2087475 , 1.1719562 , 3.194677  ,\n",
       "       4.3791995 , 3.691491  , 2.8600745 , 5.1615305 , 2.2015839 ,\n",
       "       3.809402  , 4.201542  ], dtype=float32)"
      ]
     },
     "execution_count": 21,
     "metadata": {},
     "output_type": "execute_result"
    }
   ],
   "source": []
  },
  {
   "cell_type": "code",
   "execution_count": 139,
   "id": "a32f1941-5897-4efe-a7b5-8befab38c6c7",
   "metadata": {},
   "outputs": [],
   "source": []
  },
  {
   "cell_type": "code",
   "execution_count": 140,
   "id": "0b7e94b5-472e-451e-bc3d-7537379bb557",
   "metadata": {},
   "outputs": [],
   "source": []
  },
  {
   "cell_type": "code",
   "execution_count": 55,
   "id": "44e4c5c8-4e29-4991-a1db-50699f800e79",
   "metadata": {
    "tags": []
   },
   "outputs": [
    {
     "name": "stdout",
     "output_type": "stream",
     "text": [
      "Can't load CuPy, fall back to numba\n",
      "Stride factor is 5 (number of frames: 5040)\n",
      "RMSD calculation done on 5040 frames.\n",
      "Clustering done\n",
      "Using ranked reference\n",
      "No crystal comp found - using pose 1 instead. RMSD will be meaningless\n",
      "Selected clusters are: [ 9 21  4  6 18]\n",
      "RMSD of the clusters : [6.799324507270624, 5.25235640392099, 4.319328511608005, 4.920760730588771, 7.753039814646848] NOTE: these values are meaningless - they are compared to predicted pose 1\n",
      "Stride factor is 10 (number of frames: 5400)\n",
      "RMSD calculation done on 5400 frames.\n",
      "Clustering done\n",
      "Using ranked reference\n",
      "No crystal comp found - using pose 1 instead. RMSD will be meaningless\n",
      "Selected clusters are: [23 10 15  3  4]\n",
      "RMSD of the clusters : [7.989802057202458, 1.6076703563684651, 4.637726302446238, 3.416261980058841, 2.889358632485488] NOTE: these values are meaningless - they are compared to predicted pose 1\n",
      "Stride factor is 9 (number of frames: 5200)\n",
      "RMSD calculation done on 5200 frames.\n",
      "Clustering done\n",
      "Using ranked reference\n",
      "No crystal comp found - using pose 1 instead. RMSD will be meaningless\n",
      "Selected clusters are: [ 0 14 25  3 13]\n",
      "RMSD of the clusters : [1.9699467381658033, 5.989344725212552, 10.457897415171407, 6.973083289709004, 5.681954442060841] NOTE: these values are meaningless - they are compared to predicted pose 1\n",
      "Stride factor is 7 (number of frames: 5657)\n",
      "RMSD calculation done on 5658 frames.\n",
      "Clustering done\n",
      "Using ranked reference\n",
      "No crystal comp found - using pose 1 instead. RMSD will be meaningless\n",
      "Selected clusters are: [17 11 18 24 26]\n",
      "RMSD of the clusters : [4.787306812642636, 7.19852086987157, 5.217158220436629, 2.6677829785747966, 4.066603959038907] NOTE: these values are meaningless - they are compared to predicted pose 1\n",
      "Stride factor is 12 (number of frames: 5100)\n",
      "RMSD calculation done on 5100 frames.\n",
      "Clustering done\n",
      "Using ranked reference\n",
      "No crystal comp found - using pose 1 instead. RMSD will be meaningless\n",
      "Selected clusters are: [15  4  8  0  2]\n",
      "RMSD of the clusters : [4.664825236977521, 2.7044721325100896, 6.993579551137086, 3.8530100744141493, 4.358251727855219] NOTE: these values are meaningless - they are compared to predicted pose 1\n",
      "Stride factor is 11 (number of frames: 5236)\n",
      "RMSD calculation done on 5237 frames.\n",
      "Clustering done\n",
      "Using ranked reference\n",
      "No crystal comp found - using pose 1 instead. RMSD will be meaningless\n",
      "Selected clusters are: [24 31 42  8 19]\n",
      "RMSD of the clusters : [5.488708715016466, 6.104354609010536, 6.801706312612687, 6.171595721765045, 5.519502679472107] NOTE: these values are meaningless - they are compared to predicted pose 1\n",
      "Stride factor is 2 (number of frames: 5400)\n",
      "RMSD calculation done on 5400 frames.\n",
      "Clustering done\n",
      "Using ranked reference\n",
      "No crystal comp found - using pose 1 instead. RMSD will be meaningless\n",
      "Selected clusters are: [15  7 11 13  9]\n",
      "RMSD of the clusters : [7.544239470067048, 4.299335701799413, 7.5172166302787575, 6.875536860852793, 5.786284310106869] NOTE: these values are meaningless - they are compared to predicted pose 1\n",
      "Stride factor is 5 (number of frames: 5760)\n",
      "RMSD calculation done on 5760 frames.\n",
      "Clustering done\n",
      "Using ranked reference\n",
      "No crystal comp found - using pose 1 instead. RMSD will be meaningless\n",
      "Selected clusters are: [26 21 28  9  4]\n",
      "RMSD of the clusters : [6.186800833973467, 2.3044324650222685, 6.905234441635325, 5.539828505428192, 3.6124763646661986] NOTE: these values are meaningless - they are compared to predicted pose 1\n",
      "Stride factor is 12 (number of frames: 5100)\n",
      "RMSD calculation done on 5100 frames.\n",
      "Clustering done\n",
      "Using ranked reference\n",
      "No crystal comp found - using pose 1 instead. RMSD will be meaningless\n",
      "Selected clusters are: [34 23  1 35 32]\n",
      "RMSD of the clusters : [6.937417689386209, 7.654829393339442, 3.5840925012403164, 5.095535101034088, 6.728806012718064] NOTE: these values are meaningless - they are compared to predicted pose 1\n",
      "Stride factor is 1 (number of frames: 7200)\n",
      "RMSD calculation done on 7200 frames.\n",
      "Clustering done\n",
      "Using ranked reference\n",
      "No crystal comp found - using pose 1 instead. RMSD will be meaningless\n",
      "Selected clusters are: [ 9  5 13 12 10]\n",
      "RMSD of the clusters : [5.561644916367284, 6.283637660907057, 3.195512083238617, 6.294951353769554, 6.39790119571461] NOTE: these values are meaningless - they are compared to predicted pose 1\n",
      "Stride factor is 9 (number of frames: 5200)\n",
      "RMSD calculation done on 5200 frames.\n",
      "Clustering done\n",
      "Using ranked reference\n",
      "No crystal comp found - using pose 1 instead. RMSD will be meaningless\n",
      "Selected clusters are: [19 12 20 28 29]\n",
      "RMSD of the clusters : [7.7312987644962545, 5.58540411004449, 7.9176387777055846, 6.627968465670783, 7.012850169863156] NOTE: these values are meaningless - they are compared to predicted pose 1\n",
      "Stride factor is 5 (number of frames: 5040)\n",
      "RMSD calculation done on 5040 frames.\n",
      "Clustering done\n",
      "Using ranked reference\n",
      "No crystal comp found - using pose 1 instead. RMSD will be meaningless\n",
      "Selected clusters are: [11  9  0  1 12]\n",
      "RMSD of the clusters : [5.269485674264195, 7.1972613481481655, 7.279669554635913, 6.7437832804979925, 7.826419036322774] NOTE: these values are meaningless - they are compared to predicted pose 1\n",
      "Stride factor is 12 (number of frames: 5100)\n",
      "RMSD calculation done on 5100 frames.\n",
      "Clustering done\n",
      "Selected clusters are: [11  1 14  2 12]\n",
      "RMSD of the clusters : [1.7278341054477302, 6.8854095430225115, 6.697068920568986, 6.832089889919994, 7.162867936729271] PASS\n",
      "Lowest possible RMSD : 1.8016297412357831\n",
      "Stride factor is 12 (number of frames: 5100)\n",
      "RMSD calculation done on 5100 frames.\n",
      "Clustering done\n",
      "Using ranked reference\n",
      "No crystal comp found - using pose 1 instead. RMSD will be meaningless\n",
      "Selected clusters are: [22 10 17 11 12]\n",
      "RMSD of the clusters : [7.024428094879432, 4.719116874320936, 7.208047155485835, 6.406004899561218, 6.241652012514544] NOTE: these values are meaningless - they are compared to predicted pose 1\n",
      "Stride factor is 10 (number of frames: 5040)\n",
      "RMSD calculation done on 5040 frames.\n",
      "Clustering done\n",
      "Using ranked reference\n",
      "No crystal comp found - using pose 1 instead. RMSD will be meaningless\n",
      "Selected clusters are: [17  2 22 16 19]\n",
      "RMSD of the clusters : [7.887256597974379, 4.238059227580037, 6.420360787207982, 7.154774143190006, 7.331403895657325] NOTE: these values are meaningless - they are compared to predicted pose 1\n",
      "Stride factor is 10 (number of frames: 5400)\n",
      "RMSD calculation done on 5400 frames.\n",
      "Clustering done\n",
      "Selected clusters are: [2 1 7 0 3]\n",
      "RMSD of the clusters : [1.7199136144271994, 2.5446032141255484, 3.5332113467326445, 2.541960630138723, 4.864607583494548] PASS\n",
      "Lowest possible RMSD : 1.938454081361177\n",
      "Stride factor is 8 (number of frames: 5400)\n",
      "RMSD calculation done on 5400 frames.\n",
      "Clustering done\n",
      "Using ranked reference\n",
      "No crystal comp found - using pose 1 instead. RMSD will be meaningless\n",
      "Selected clusters are: [ 0 22 14 19 12]\n",
      "RMSD of the clusters : [5.9576849441205, 6.432250799820392, 5.860721186058266, 8.511081538898694, 7.368416348154508] NOTE: these values are meaningless - they are compared to predicted pose 1\n",
      "Stride factor is 2 (number of frames: 5400)\n",
      "RMSD calculation done on 5400 frames.\n",
      "Clustering done\n",
      "Selected clusters are: [ 2 17  1  0 15]\n",
      "RMSD of the clusters : [2.673057246951778, 5.350871155424039, 3.8568926964186354, 2.346233403590644, 6.42514961651489] PASS\n",
      "Lowest possible RMSD : 2.371809997777351\n",
      "Stride factor is 10 (number of frames: 5400)\n",
      "RMSD calculation done on 5400 frames.\n",
      "Clustering done\n",
      "Using ranked reference\n",
      "No crystal comp found - using pose 1 instead. RMSD will be meaningless\n",
      "Selected clusters are: [24 14  2 17 18]\n",
      "RMSD of the clusters : [4.241079506119801, 6.132001838544562, 3.1960509676074467, 6.372456305477064, 6.20456197169183] NOTE: these values are meaningless - they are compared to predicted pose 1\n",
      "Stride factor is 7 (number of frames: 5142)\n",
      "RMSD calculation done on 5143 frames.\n",
      "Clustering done\n",
      "Using ranked reference\n",
      "No crystal comp found - using pose 1 instead. RMSD will be meaningless\n",
      "Selected clusters are: [13 12  2 22 14]\n",
      "RMSD of the clusters : [6.726279936610755, 6.172896610717794, 3.7401152765697963, 5.664922199333254, 6.346902427744468] NOTE: these values are meaningless - they are compared to predicted pose 1\n",
      "Stride factor is 11 (number of frames: 5236)\n",
      "RMSD calculation done on 5237 frames.\n",
      "Clustering done\n",
      "Using ranked reference\n",
      "No crystal comp found - using pose 1 instead. RMSD will be meaningless\n",
      "Selected clusters are: [ 9 10  7 14 13]\n",
      "RMSD of the clusters : [4.378472726460088, 4.199760905215935, 6.70139588053783, 6.87819834962021, 6.599947059889062] NOTE: these values are meaningless - they are compared to predicted pose 1\n",
      "Stride factor is 5 (number of frames: 5040)\n",
      "RMSD calculation done on 5040 frames.\n",
      "Clustering done\n",
      "Using ranked reference\n",
      "No crystal comp found - using pose 1 instead. RMSD will be meaningless\n",
      "Selected clusters are: [14 15 18  1 13]\n",
      "RMSD of the clusters : [3.6881235727909276, 4.063793410941475, 5.045855831848549, 5.631475647774932, 5.062195294200551] NOTE: these values are meaningless - they are compared to predicted pose 1\n",
      "Stride factor is 4 (number of frames: 5400)\n",
      "RMSD calculation done on 5400 frames.\n",
      "Clustering done\n",
      "Using ranked reference\n",
      "No crystal comp found - using pose 1 instead. RMSD will be meaningless\n",
      "Selected clusters are: [14  4 11  2  6]\n",
      "RMSD of the clusters : [7.76762474539029, 7.547784495918298, 5.386386967341394, 7.176718761039987, 7.363818207523743] NOTE: these values are meaningless - they are compared to predicted pose 1\n",
      "Stride factor is 11 (number of frames: 5236)\n",
      "RMSD calculation done on 5237 frames.\n",
      "Clustering done\n",
      "Using ranked reference\n",
      "No crystal comp found - using pose 1 instead. RMSD will be meaningless\n",
      "Selected clusters are: [ 9 16 15  4  3]\n",
      "RMSD of the clusters : [5.3565168349632275, 5.922947575608867, 5.293893699168582, 4.633292908514285, 4.525810396093167] NOTE: these values are meaningless - they are compared to predicted pose 1\n",
      "Stride factor is 4 (number of frames: 5400)\n",
      "RMSD calculation done on 5400 frames.\n",
      "Clustering done\n",
      "Using ranked reference\n",
      "No crystal comp found - using pose 1 instead. RMSD will be meaningless\n",
      "Selected clusters are: [17 24  7 14 26]\n",
      "RMSD of the clusters : [4.68141263466151, 5.658613811731846, 5.819449961069523, 4.321944025804917, 6.620143214420047] NOTE: these values are meaningless - they are compared to predicted pose 1\n",
      "Stride factor is 7 (number of frames: 5657)\n",
      "RMSD calculation done on 5658 frames.\n",
      "Clustering done\n",
      "Using ranked reference\n",
      "No crystal comp found - using pose 1 instead. RMSD will be meaningless\n",
      "Selected clusters are: [ 1  9  0 10 18]\n",
      "RMSD of the clusters : [5.7409724203845585, 6.340300155555539, 6.261455466522077, 6.947783526170719, 7.244802484303404] NOTE: these values are meaningless - they are compared to predicted pose 1\n",
      "Stride factor is 6 (number of frames: 5400)\n",
      "RMSD calculation done on 5400 frames.\n",
      "Clustering done\n",
      "Using ranked reference\n",
      "No crystal comp found - using pose 1 instead. RMSD will be meaningless\n",
      "Selected clusters are: [ 3  1  4 13  6]\n",
      "RMSD of the clusters : [5.962731353493383, 6.064143781253658, 6.620455019028939, 5.955311620857776, 6.446956722240392] NOTE: these values are meaningless - they are compared to predicted pose 1\n",
      "Stride factor is 12 (number of frames: 5100)\n",
      "RMSD calculation done on 5100 frames.\n",
      "Clustering done\n",
      "Using ranked reference\n",
      "No crystal comp found - using pose 1 instead. RMSD will be meaningless\n",
      "Selected clusters are: [24 23 31 15 26]\n",
      "RMSD of the clusters : [6.913394395873757, 6.951960834082479, 7.666494654796703, 6.037194978880691, 6.390951040026932] NOTE: these values are meaningless - they are compared to predicted pose 1\n",
      "Stride factor is 10 (number of frames: 5400)\n",
      "RMSD calculation done on 5400 frames.\n",
      "Clustering done\n",
      "Using ranked reference\n",
      "No crystal comp found - using pose 1 instead. RMSD will be meaningless\n",
      "Selected clusters are: [19 11  0  2  1]\n",
      "RMSD of the clusters : [4.853085905970454, 5.429248037596512, 5.283862226426284, 6.245462191670644, 5.769893531184942] NOTE: these values are meaningless - they are compared to predicted pose 1\n",
      "Stride factor is 7 (number of frames: 5142)\n",
      "RMSD calculation done on 5143 frames.\n",
      "Clustering done\n",
      "Using ranked reference\n",
      "No crystal comp found - using pose 1 instead. RMSD will be meaningless\n",
      "Selected clusters are: [12 14 11 18  3]\n",
      "RMSD of the clusters : [7.568139543553732, 7.753640993356127, 7.258141500941192, 5.701288093000916, 4.893643536178018] NOTE: these values are meaningless - they are compared to predicted pose 1\n",
      "Stride factor is 3 (number of frames: 6000)\n",
      "RMSD calculation done on 6000 frames.\n",
      "Clustering done\n",
      "Using ranked reference\n",
      "No crystal comp found - using pose 1 instead. RMSD will be meaningless\n",
      "Selected clusters are: [ 0 15 14 16  1]\n",
      "RMSD of the clusters : [4.616063333465185, 4.820944453670145, 5.688190333162605, 5.766405270689265, 5.096106846949611] NOTE: these values are meaningless - they are compared to predicted pose 1\n",
      "Stride factor is 9 (number of frames: 5200)\n",
      "RMSD calculation done on 5200 frames.\n",
      "Clustering done\n",
      "Using ranked reference\n",
      "No crystal comp found - using pose 1 instead. RMSD will be meaningless\n",
      "Selected clusters are: [ 2  3 18 16  7]\n",
      "RMSD of the clusters : [6.3613836456964865, 6.315957027555426, 8.543961601754104, 4.156904923104315, 8.438501167336643] NOTE: these values are meaningless - they are compared to predicted pose 1\n",
      "Stride factor is 9 (number of frames: 5200)\n",
      "RMSD calculation done on 5200 frames.\n",
      "Clustering done\n",
      "Using ranked reference\n",
      "No crystal comp found - using pose 1 instead. RMSD will be meaningless\n",
      "Selected clusters are: [10  7 16 15  5]\n",
      "RMSD of the clusters : [7.518849082345219, 7.4612642408528025, 5.4586570364814335, 6.094270269866565, 8.223291124857063] NOTE: these values are meaningless - they are compared to predicted pose 1\n",
      "Stride factor is 2 (number of frames: 5400)\n",
      "RMSD calculation done on 5400 frames.\n",
      "Clustering done\n",
      "Using ranked reference\n",
      "No crystal comp found - using pose 1 instead. RMSD will be meaningless\n",
      "Selected clusters are: [ 0  3  6  5 10]\n",
      "RMSD of the clusters : [6.955833099877795, 9.583238144793738, 7.252257356411816, 5.673786618780021, 11.806722451460823] NOTE: these values are meaningless - they are compared to predicted pose 1\n",
      "Stride factor is 12 (number of frames: 5100)\n",
      "RMSD calculation done on 5100 frames.\n",
      "Clustering done\n",
      "Using ranked reference\n",
      "No crystal comp found - using pose 1 instead. RMSD will be meaningless\n",
      "Selected clusters are: [28  2 25 24 20]\n",
      "RMSD of the clusters : [6.2899767766820265, 3.584830010909436, 5.1972905258166735, 6.622312978929242, 5.324577330299748] NOTE: these values are meaningless - they are compared to predicted pose 1\n",
      "Stride factor is 11 (number of frames: 5236)\n",
      "RMSD calculation done on 5237 frames.\n",
      "Clustering done\n",
      "Using ranked reference\n",
      "No crystal comp found - using pose 1 instead. RMSD will be meaningless\n",
      "Selected clusters are: [ 7  6  0  4 10]\n",
      "RMSD of the clusters : [7.186272408570364, 5.431241716397324, 5.757512452282192, 7.613132385188875, 8.79088747287178] NOTE: these values are meaningless - they are compared to predicted pose 1\n",
      "Stride factor is 11 (number of frames: 5236)\n",
      "RMSD calculation done on 5237 frames.\n",
      "Clustering done\n",
      "Using ranked reference\n",
      "No crystal comp found - using pose 1 instead. RMSD will be meaningless\n",
      "Selected clusters are: [14  8 11 15 12]\n",
      "RMSD of the clusters : [4.545383472850904, 4.905174986298666, 4.246882955526239, 4.259253478024154, 4.666208848653867] NOTE: these values are meaningless - they are compared to predicted pose 1\n",
      "Stride factor is 8 (number of frames: 5400)\n",
      "RMSD calculation done on 5400 frames.\n",
      "Clustering done\n",
      "Using ranked reference\n",
      "No crystal comp found - using pose 1 instead. RMSD will be meaningless\n",
      "Selected clusters are: [21 20  6  1  7]\n",
      "RMSD of the clusters : [7.38342808184475, 7.086472265209564, 4.400302735976188, 5.33539471129738, 4.393199913505553] NOTE: these values are meaningless - they are compared to predicted pose 1\n",
      "Stride factor is 9 (number of frames: 5200)\n",
      "RMSD calculation done on 5200 frames.\n",
      "Clustering done\n",
      "Using ranked reference\n",
      "No crystal comp found - using pose 1 instead. RMSD will be meaningless\n",
      "Selected clusters are: [10  6 39 38 12]\n",
      "RMSD of the clusters : [7.817645992104891, 6.479325221001863, 7.113926397772939, 5.613142749632967, 7.149420623853789] NOTE: these values are meaningless - they are compared to predicted pose 1\n",
      "Stride factor is 8 (number of frames: 5400)\n",
      "RMSD calculation done on 5400 frames.\n",
      "Clustering done\n",
      "Using ranked reference\n",
      "No crystal comp found - using pose 1 instead. RMSD will be meaningless\n",
      "Selected clusters are: [27 26 18 24 15]\n",
      "RMSD of the clusters : [6.795058375205288, 7.023080332089744, 7.775273023608251, 7.862048911472523, 4.932378208105503] NOTE: these values are meaningless - they are compared to predicted pose 1\n",
      "Stride factor is 1 (number of frames: 7200)\n",
      "RMSD calculation done on 7200 frames.\n",
      "Clustering done\n",
      "Using ranked reference\n",
      "No crystal comp found - using pose 1 instead. RMSD will be meaningless\n",
      "Selected clusters are: [10  4  9  3  0]\n",
      "RMSD of the clusters : [3.642023948239194, 4.342736894040506, 5.62359038096386, 3.716903516339678, 2.3960542913606933] NOTE: these values are meaningless - they are compared to predicted pose 1\n",
      "Stride factor is 2 (number of frames: 7200)\n",
      "RMSD calculation done on 7200 frames.\n",
      "Clustering done\n",
      "Using ranked reference\n",
      "No crystal comp found - using pose 1 instead. RMSD will be meaningless\n",
      "Selected clusters are: [25  6 16 27 28]\n",
      "RMSD of the clusters : [4.659358811016629, 2.9322286796938113, 5.463427125045039, 5.843871104982947, 4.401891513329438] NOTE: these values are meaningless - they are compared to predicted pose 1\n",
      "Stride factor is 10 (number of frames: 5040)\n",
      "RMSD calculation done on 5040 frames.\n",
      "Clustering done\n",
      "Using ranked reference\n",
      "No crystal comp found - using pose 1 instead. RMSD will be meaningless\n",
      "Selected clusters are: [1 4 2 5 6]\n",
      "RMSD of the clusters : [7.122385285565606, 6.936170506237711, 7.486603210313483, 4.98373779965975, 6.594296358807818] NOTE: these values are meaningless - they are compared to predicted pose 1\n"
     ]
    },
    {
     "data": {
      "text/plain": [
       "[]"
      ]
     },
     "execution_count": 55,
     "metadata": {},
     "output_type": "execute_result"
    }
   ],
   "source": [
    "test_this_one = 'Z1530718726' # The one with xtal structure\n",
    "test_this_one = 'Z1530724963' # The one with xtal structure\n",
    "test_this_one = 'Z1530724813'\n",
    "# test_this_one = 'Z1096208223' # the O in the ring faces His 163\n",
    "# test_this_one = 'Z1096208227'\n",
    "# test_this_one = 'Z1096215707'\n",
    "# test_this_one = 'Z1530725178'\n",
    "# test_this_one = 'Z1530786342'\n",
    "\n",
    "import MDR_cluster\n",
    "importlib.reload(MDR_cluster)\n",
    "from MDR_cluster import gimme_best_pose\n",
    "for test_this_one in MDR.Ligands.keys():\n",
    "    try:\n",
    "        _, _, v, comp, actualComp = gimme_best_pose(MDR, ligand=test_this_one, top_select=5, plot=False, metric='vdW',\n",
    "                                min_size_multiplier=1, cluster_min_samples=15, eps=0.7, speed=5000, ligand_res=58,\n",
    "                                filter_dist=True, filter_dist_thres=10, show_pose=False,\n",
    "                                rank=1,outputPDB=True)\n",
    "    except:\n",
    "        continue\n",
    "v"
   ]
  },
  {
   "cell_type": "code",
   "execution_count": 12,
   "id": "ca77c65b-267a-41dc-a190-0c506b2bc98e",
   "metadata": {},
   "outputs": [],
   "source": [
    "# ligand_map = {'A': 0, 'C': 0, 'N': 1, 'NA': 1, 'O': 2, 'OA': 2, 'F': 3, 'P': 4, 'S': 5, 'SA': 5, 'CL': 6,\n",
    "#               'BR': 7, 'I': 8}\n",
    "# protein_map = {'A': 0, 'C': 0, 'N': 1, 'NA': 1, 'O': 2, 'OA': 2, 'S': 3, 'SA': 3}\n",
    "\n",
    "\n",
    "# pro = actualComp[14].top.select(\"not residue 56 and not symbol H\")\n",
    "# proteinCoordinate = actualComp[14].xyz[0][pro]*10\n",
    "# proteinType = np.array([protein_map[x.element.symbol.upper()] for x in np.array(list(actualComp[14].top.atoms))[pro]])\n",
    "# lig = actualComp[14].top.select(\"residue 56 and not symbol H\")\n",
    "# ligandCoordinate = actualComp[14].xyz[0][lig]*10\n",
    "# baseLigandType = np.array([ligand_map[x.element.symbol.upper()] for x in np.array(list(actualComp[14].top.atoms))[lig]])"
   ]
  },
  {
   "cell_type": "code",
   "execution_count": 13,
   "id": "b1e160c4-a825-4bdb-92d9-f3a660d7fd3a",
   "metadata": {},
   "outputs": [
    {
     "name": "stderr",
     "output_type": "stream",
     "text": [
      "Training RFScore v2 on PDBBind v2016\n",
      "Test set:\tR2_score: 0.5708\tRp: 0.8089\tRMSE: 1.4238\tSD: 1.2801\n",
      "Train set:\tR2_score: 0.8946\tRp: 0.9611\tRMSE: 0.6478\tSD: 0.5510\n",
      "OOB set:\tR2_score: 0.5450\tRp: 0.7418\tRMSE: 1.3459\tSD: 1.3382\n"
     ]
    }
   ],
   "source": [
    "import oddt\n",
    "from oddt import scoring\n",
    "from oddt.scoring.functions import RFScore\n",
    "import numpy as np\n",
    "try:\n",
    "    rf\n",
    "except:\n",
    "    rf = RFScore.rfscore(version=2)\n",
    "    rf.train()"
   ]
  },
  {
   "cell_type": "code",
   "execution_count": 14,
   "id": "96f00c23-a4c3-48be-9ace-cfd6465317a1",
   "metadata": {},
   "outputs": [
    {
     "name": "stdout",
     "output_type": "stream",
     "text": [
      "5 [4.58688561]\n",
      "29 [4.52918957]\n",
      "15 [6.0109256]\n",
      "18 [5.43492299]\n",
      "13 [5.7469425]\n"
     ]
    }
   ],
   "source": [
    "import contact\n",
    "importlib.reload(contact)\n",
    "\n",
    "for ii in actualComp.keys():\n",
    "    f = contact.contact(actualComp[ii])\n",
    "    print(ii, rf.model.predict(f))\n"
   ]
  },
  {
   "cell_type": "code",
   "execution_count": 49,
   "id": "3f608b08-cda4-4b06-8581-7a54933d98dd",
   "metadata": {},
   "outputs": [
    {
     "data": {
      "text/plain": [
       "numpy.ndarray"
      ]
     },
     "execution_count": 49,
     "metadata": {},
     "output_type": "execute_result"
    }
   ],
   "source": [
    "type(f)"
   ]
  },
  {
   "cell_type": "markdown",
   "id": "c2bf99b4-d2e6-4c93-9522-8632a33ccd62",
   "metadata": {},
   "source": [
    "### Prepare aligned pose to compare to crystal structure for '726"
   ]
  },
  {
   "cell_type": "code",
   "execution_count": 132,
   "id": "d397b981-acc3-434c-b900-e11155f9266b",
   "metadata": {},
   "outputs": [],
   "source": [
    "crys = mdtraj.load('reference_structures/mpro_NCEnam-726_refine_11_final.pdb')"
   ]
  },
  {
   "cell_type": "code",
   "execution_count": 133,
   "id": "64dbd6bd-9e8f-43f7-b2fc-a90508b1df2b",
   "metadata": {},
   "outputs": [
    {
     "name": "stdout",
     "output_type": "stream",
     "text": [
      "{0: 25, 1: 26, 2: 27, 3: 40, 4: 41, 5: 42, 6: 43, 7: 44, 8: 45, 9: 46, 10: 47, 11: 48, 12: 49, 13: 50, 14: 51, 15: 52, 16: 53, 17: 54, 18: 140, 19: 141, 20: 142, 21: 143, 22: 144, 23: 145, 24: 161, 25: 162, 26: 163, 27: 164, 28: 165, 29: 166, 30: 167, 31: 168, 32: 169, 33: 170, 34: 171, 35: 172, 36: 181, 37: 182, 38: 183, 39: 184, 40: 185, 41: 186, 42: 187, 43: 188, 44: 189, 45: 190}\n"
     ]
    }
   ],
   "source": [
    "crys_res = list(range(25,28)) + list(range(40,55)) + list(range(140,146)) + list(range(161,173)) + list(range(181,191))\n",
    "counter = 0\n",
    "crys_comp_map = {}\n",
    "for res in comp[14].top.residues:\n",
    "    if res.name == 'ACE' or res.name == 'NME' or res.name == 'LIG':\n",
    "        pass\n",
    "    else:\n",
    "#         print(res.index)\n",
    "        crys_comp_map[counter] = crys_res[counter]\n",
    "        counter += 1\n",
    "#         print(res.name)\n",
    "print(crys_comp_map)"
   ]
  },
  {
   "cell_type": "code",
   "execution_count": 133,
   "id": "23fa8981-8c79-4825-8f48-70a9f6eaac87",
   "metadata": {},
   "outputs": [
    {
     "name": "stdout",
     "output_type": "stream",
     "text": [
      "{0: 25, 1: 26, 2: 27, 3: 40, 4: 41, 5: 42, 6: 43, 7: 44, 8: 45, 9: 46, 10: 47, 11: 48, 12: 49, 13: 50, 14: 51, 15: 52, 16: 53, 17: 54, 18: 140, 19: 141, 20: 142, 21: 143, 22: 144, 23: 145, 24: 161, 25: 162, 26: 163, 27: 164, 28: 165, 29: 166, 30: 167, 31: 168, 32: 169, 33: 170, 34: 171, 35: 172, 36: 181, 37: 182, 38: 183, 39: 184, 40: 185, 41: 186, 42: 187, 43: 188, 44: 189, 45: 190}\n"
     ]
    }
   ],
   "source": [
    "crys_res = list(range(25,28)) + list(range(40,55)) + list(range(140,146)) + list(range(161,173)) + list(range(181,191))\n",
    "counter = 0\n",
    "crys_comp_map = {}\n",
    "for res in comp[14].top.residues:\n",
    "    if res.name == 'ACE' or res.name == 'NME' or res.name == 'LIG':\n",
    "        pass\n",
    "    else:\n",
    "#         print(res.index)\n",
    "        crys_comp_map[counter] = crys_res[counter]\n",
    "        counter += 1\n",
    "#         print(res.name)\n",
    "print(crys_comp_map)"
   ]
  },
  {
   "cell_type": "code",
   "execution_count": 134,
   "id": "ab626124-ee29-4bb3-aa85-c64651fa3a60",
   "metadata": {},
   "outputs": [],
   "source": [
    "crys_CA_all = list(crys.top.atoms_by_name('CA'))\n",
    "comp_CA_all = list(comp[14].top.residues)\n",
    "comp_CA_all = list(comp[14].top.atoms_by_name('CA'))"
   ]
  },
  {
   "cell_type": "code",
   "execution_count": 135,
   "id": "5e3f4673-6f84-49cd-b665-6e1a43b443a5",
   "metadata": {},
   "outputs": [
    {
     "name": "stdout",
     "output_type": "stream",
     "text": [
      "[173, 180, 187, 292, 303, 313, 320, 328, 334, 341, 347, 356, 364, 372, 380, 388, 395, 403, 1078, 1089, 1097, 1105, 1109, 1115, 1233, 1245, 1253, 1263, 1273, 1281, 1290, 1298, 1305, 1312, 1316, 1323, 1386, 1397, 1409, 1413, 1420, 1431, 1438, 1446, 1457, 1466]\n",
      "[8, 22, 36, 67, 91, 108, 124, 143, 154, 168, 179, 194, 206, 223, 242, 264, 270, 284, 317, 337, 356, 370, 377, 388, 411, 432, 449, 466, 483, 500, 515, 542, 548, 562, 569, 585, 614, 634, 655, 670, 676, 696, 712, 724, 748, 765]\n"
     ]
    }
   ],
   "source": [
    "crys_CA = []\n",
    "comp_CA = []\n",
    "for ii in crys_comp_map.keys():\n",
    "#     print(crys_CA_all[crys_comp_map[ii]-1], comp_CA_all[ii])\n",
    "    crys_CA.append(crys_CA_all[crys_comp_map[ii]-1].index)\n",
    "    comp_CA.append(comp_CA_all[ii].index)\n",
    "print(crys_CA)\n",
    "print(comp_CA)"
   ]
  },
  {
   "cell_type": "code",
   "execution_count": 111,
   "id": "406b0717-1014-4706-a473-f9faf5d0bd3f",
   "metadata": {},
   "outputs": [],
   "source": [
    "for idx, ii in enumerate(comp.keys()):\n",
    "    comp[ii].superpose(crys,atom_indices=comp_CA,ref_atom_indices=crys_CA)\n",
    "    comp[ii].save(f'Refined_Poses/Z1530718726/Pose{idx}_aligned.pdb')"
   ]
  },
  {
   "cell_type": "code",
   "execution_count": 142,
   "id": "879cde4f-b942-4d87-bb37-237370c34556",
   "metadata": {},
   "outputs": [],
   "source": [
    "dock = mdtraj.load(MDR.Ligands['Z1530718726'].Poses['4'].initialPose, top=MDR.Ligands['Z1530718726'].prmtop)\n",
    "dock.superpose(crys,atom_indices=comp_CA,ref_atom_indices=crys_CA)\n",
    "dock.save(f'Refined_Poses/Z1530718726/Autodock_pose4_aligned.pdb')"
   ]
  },
  {
   "cell_type": "code",
   "execution_count": 109,
   "id": "3a4701e3-90cb-46b1-b811-707e62c1af64",
   "metadata": {},
   "outputs": [
    {
     "ename": "AttributeError",
     "evalue": "'ComponentViewer' object has no attribute 'add_CPK'",
     "output_type": "error",
     "traceback": [
      "\u001b[0;31m---------------------------------------------------------------------------\u001b[0m",
      "\u001b[0;31mAttributeError\u001b[0m                            Traceback (most recent call last)",
      "\u001b[0;32m/tmp/ipykernel_89/3494006864.py\u001b[0m in \u001b[0;36m<module>\u001b[0;34m\u001b[0m\n\u001b[1;32m     10\u001b[0m \u001b[0mc1\u001b[0m\u001b[0;34m.\u001b[0m\u001b[0madd_licorice\u001b[0m\u001b[0;34m(\u001b[0m\u001b[0mselection\u001b[0m\u001b[0;34m=\u001b[0m\u001b[0;34m'protein and not hydrogen'\u001b[0m\u001b[0;34m,\u001b[0m \u001b[0mopacity\u001b[0m\u001b[0;34m=\u001b[0m\u001b[0;36m0.3\u001b[0m\u001b[0;34m)\u001b[0m\u001b[0;34m\u001b[0m\u001b[0;34m\u001b[0m\u001b[0m\n\u001b[1;32m     11\u001b[0m \u001b[0mc1\u001b[0m\u001b[0;34m.\u001b[0m\u001b[0madd_licorice\u001b[0m\u001b[0;34m(\u001b[0m\u001b[0mselection\u001b[0m\u001b[0;34m=\u001b[0m\u001b[0;34m'33'\u001b[0m\u001b[0;34m)\u001b[0m\u001b[0;34m\u001b[0m\u001b[0;34m\u001b[0m\u001b[0m\n\u001b[0;32m---> 12\u001b[0;31m \u001b[0mc1\u001b[0m\u001b[0;34m.\u001b[0m\u001b[0madd_CPK\u001b[0m\u001b[0;34m(\u001b[0m\u001b[0mselection\u001b[0m\u001b[0;34m=\u001b[0m\u001b[0;34m'56'\u001b[0m\u001b[0;34m)\u001b[0m\u001b[0;34m\u001b[0m\u001b[0;34m\u001b[0m\u001b[0m\n\u001b[0m\u001b[1;32m     13\u001b[0m \u001b[0mc2\u001b[0m\u001b[0;34m.\u001b[0m\u001b[0madd_licorice\u001b[0m\u001b[0;34m(\u001b[0m\u001b[0mselection\u001b[0m\u001b[0;34m=\u001b[0m\u001b[0;34m'163'\u001b[0m\u001b[0;34m)\u001b[0m\u001b[0;34m\u001b[0m\u001b[0;34m\u001b[0m\u001b[0m\n\u001b[1;32m     14\u001b[0m \u001b[0mview\u001b[0m\u001b[0;34m\u001b[0m\u001b[0;34m\u001b[0m\u001b[0m\n",
      "\u001b[0;31mAttributeError\u001b[0m: 'ComponentViewer' object has no attribute 'add_CPK'"
     ]
    }
   ],
   "source": [
    "import nglview\n",
    "from nglview.player import TrajectoryPlayer\n",
    "view = nglview.NGLWidget() \n",
    "view.camera = 'orthographic'\n",
    "\n",
    "c1 = view.add_trajectory(comp[14])\n",
    "c2 = view.add_trajectory(crys)\n",
    "c1.clear()\n",
    "c1.add_cartoon(selection='protein')\n",
    "c1.add_licorice(selection='protein and not hydrogen', opacity=0.3)\n",
    "c1.add_licorice(selection='33')\n",
    "c1.add_CPK(selection='56')\n",
    "c2.add_licorice(selection='163')\n",
    "view"
   ]
  },
  {
   "cell_type": "markdown",
   "id": "2d614d09-d7ef-466d-8dd6-f0931fd063b8",
   "metadata": {},
   "source": [
    "### Prepare aligned pose to compare to crystal structure for '963"
   ]
  },
  {
   "cell_type": "code",
   "execution_count": 144,
   "id": "e2f815b5-ee9f-4dbb-bb0b-1a4f654af27e",
   "metadata": {},
   "outputs": [],
   "source": [
    "crys = mdtraj.load('reference_structures/Mpro_NonCov_Enam963_refine_11_final.pdb')"
   ]
  },
  {
   "cell_type": "code",
   "execution_count": 145,
   "id": "948b20ae-fd5a-4674-952b-b82f30d85ebe",
   "metadata": {},
   "outputs": [
    {
     "name": "stdout",
     "output_type": "stream",
     "text": [
      "{0: 25, 1: 26, 2: 27, 3: 40, 4: 41, 5: 42, 6: 43, 7: 44, 8: 45, 9: 46, 10: 47, 11: 48, 12: 49, 13: 50, 14: 51, 15: 52, 16: 53, 17: 54, 18: 140, 19: 141, 20: 142, 21: 143, 22: 144, 23: 145, 24: 161, 25: 162, 26: 163, 27: 164, 28: 165, 29: 166, 30: 167, 31: 168, 32: 169, 33: 170, 34: 171, 35: 172, 36: 181, 37: 182, 38: 183, 39: 184, 40: 185, 41: 186, 42: 187, 43: 188, 44: 189, 45: 190}\n"
     ]
    }
   ],
   "source": [
    "crys_res = list(range(25,28)) + list(range(40,55)) + list(range(140,146)) + list(range(161,173)) + list(range(181,191))\n",
    "counter = 0\n",
    "crys_comp_map = {}\n",
    "fkey = list(comp.keys())[0]\n",
    "for res in comp[fkey].top.residues:\n",
    "    if res.name == 'ACE' or res.name == 'NME' or res.name == 'LIG':\n",
    "        pass\n",
    "    else:\n",
    "#         print(res.index)\n",
    "        crys_comp_map[counter] = crys_res[counter]\n",
    "        counter += 1\n",
    "#         print(res.name)\n",
    "print(crys_comp_map)"
   ]
  },
  {
   "cell_type": "code",
   "execution_count": 146,
   "id": "186bd82f-6ff0-4706-9d79-ac1c06033502",
   "metadata": {},
   "outputs": [],
   "source": [
    "crys_CA_all = list(crys.top.atoms_by_name('CA'))\n",
    "comp_CA_all = list(comp[fkey].top.residues)\n",
    "comp_CA_all = list(comp[fkey].top.atoms_by_name('CA'))"
   ]
  },
  {
   "cell_type": "code",
   "execution_count": 147,
   "id": "52501d9e-4469-4535-8e62-237367dd65cc",
   "metadata": {},
   "outputs": [
    {
     "name": "stdout",
     "output_type": "stream",
     "text": [
      "[173, 180, 187, 292, 303, 313, 320, 328, 334, 341, 347, 356, 364, 372, 380, 388, 395, 403, 1078, 1089, 1097, 1105, 1109, 1115, 1233, 1245, 1253, 1263, 1273, 1281, 1290, 1298, 1305, 1312, 1316, 1323, 1386, 1397, 1409, 1413, 1420, 1431, 1438, 1446, 1457, 1466]\n",
      "[8, 22, 36, 67, 91, 108, 124, 143, 154, 168, 179, 194, 206, 223, 242, 264, 270, 284, 317, 337, 356, 370, 377, 388, 411, 432, 449, 466, 483, 500, 515, 542, 548, 562, 569, 585, 614, 634, 655, 670, 676, 696, 712, 724, 748, 765]\n"
     ]
    }
   ],
   "source": [
    "crys_CA = []\n",
    "comp_CA = []\n",
    "for ii in crys_comp_map.keys():\n",
    "#     print(crys_CA_all[crys_comp_map[ii]-1], comp_CA_all[ii])\n",
    "    crys_CA.append(crys_CA_all[crys_comp_map[ii]-1].index)\n",
    "    comp_CA.append(comp_CA_all[ii].index)\n",
    "print(crys_CA)\n",
    "print(comp_CA)"
   ]
  },
  {
   "cell_type": "code",
   "execution_count": 121,
   "id": "b808ff08-a638-4e04-8e69-295de1d7c9c7",
   "metadata": {},
   "outputs": [],
   "source": [
    "for idx, ii in enumerate(comp.keys()):\n",
    "    comp[ii].superpose(crys,atom_indices=comp_CA,ref_atom_indices=crys_CA)\n",
    "    comp[ii].save(f'Refined_Poses/Z1530724963/Pose{idx}_aligned.pdb')"
   ]
  },
  {
   "cell_type": "code",
   "execution_count": 152,
   "id": "03013834-678a-407e-96aa-655f9ac1d160",
   "metadata": {},
   "outputs": [],
   "source": [
    "dock = mdtraj.load(MDR.Ligands['Z1530724963'].Poses['4'].initialPose, top=MDR.Ligands['Z1530724963'].prmtop)\n",
    "dock.superpose(crys,atom_indices=comp_CA,ref_atom_indices=crys_CA)\n",
    "dock.save(f'Refined_Poses/Z1530724963/Autodock_pose4_aligned.pdb')"
   ]
  },
  {
   "cell_type": "code",
   "execution_count": 125,
   "id": "86daf24e-51f4-4c85-b528-fbe2cf0d6e70",
   "metadata": {},
   "outputs": [
    {
     "data": {
      "application/vnd.jupyter.widget-view+json": {
       "model_id": "ce963426c0a248ce983a3848f71da549",
       "version_major": 2,
       "version_minor": 0
      },
      "text/plain": [
       "NGLWidget()"
      ]
     },
     "metadata": {},
     "output_type": "display_data"
    }
   ],
   "source": [
    "import nglview\n",
    "from nglview.player import TrajectoryPlayer\n",
    "view = nglview.NGLWidget() \n",
    "view.camera = 'orthographic'\n",
    "\n",
    "c1 = view.add_trajectory(comp[fkey])\n",
    "c2 = view.add_trajectory(crys)\n",
    "c1.clear()\n",
    "c1.add_cartoon(selection='protein')\n",
    "c1.add_licorice(selection='protein and not hydrogen', opacity=0.3)\n",
    "c1.add_licorice(selection='HIS', opacity=0.5)\n",
    "c1.add_licorice(selection='33')\n",
    "c1.add_licorice(selection='56')\n",
    "c2.add_licorice(selection='163')\n",
    "view"
   ]
  },
  {
   "cell_type": "code",
   "execution_count": 40,
   "id": "f9ef0481-b89a-47dc-b910-11aada242657",
   "metadata": {},
   "outputs": [
    {
     "data": {
      "text/plain": [
       "[<MDR_base.mdgxTrajectory at 0x7f2dab80aa90>,\n",
       " <MDR_base.mdgxTrajectory at 0x7f2dab80ae50>,\n",
       " <MDR_base.mdgxTrajectory at 0x7f2dab80ac10>,\n",
       " <MDR_base.mdgxTrajectory at 0x7f2dab80adf0>,\n",
       " <MDR_base.mdgxTrajectory at 0x7f2dab80a6d0>,\n",
       " <MDR_base.mdgxTrajectory at 0x7f2da9f7a280>,\n",
       " <MDR_base.mdgxTrajectory at 0x7f2da9f7a970>,\n",
       " <MDR_base.mdgxTrajectory at 0x7f2da9f7ae50>,\n",
       " <MDR_base.mdgxTrajectory at 0x7f2da9f82550>,\n",
       " <MDR_base.mdgxTrajectory at 0x7f2da9f82bb0>,\n",
       " <MDR_base.mdgxTrajectory at 0x7f2dab7f8b20>,\n",
       " <MDR_base.mdgxTrajectory at 0x7f2da9f8b130>,\n",
       " <MDR_base.mdgxTrajectory at 0x7f2da9f8b7c0>,\n",
       " <MDR_base.mdgxTrajectory at 0x7f2da9f8bd90>,\n",
       " <MDR_base.mdgxTrajectory at 0x7f2daa0a6e50>,\n",
       " <MDR_base.mdgxTrajectory at 0x7f2da9f91610>,\n",
       " <MDR_base.mdgxTrajectory at 0x7f2da9f91c10>,\n",
       " <MDR_base.mdgxTrajectory at 0x7f2da9f98100>,\n",
       " <MDR_base.mdgxTrajectory at 0x7f2da9f984f0>,\n",
       " <MDR_base.mdgxTrajectory at 0x7f2da9f98c10>]"
      ]
     },
     "execution_count": 40,
     "metadata": {},
     "output_type": "execute_result"
    }
   ],
   "source": [
    "MDR.Ligands['Z2077732466'].Poses['1'].traj['MD']"
   ]
  },
  {
   "cell_type": "code",
   "execution_count": null,
   "id": "fce50a95-855e-4aa5-b569-d419262f3891",
   "metadata": {},
   "outputs": [],
   "source": [
    "\n",
    "\n",
    "import nglview\n",
    "from nglview.player import TrajectoryPlayer\n",
    "ligand='Mpro-x10959'\n",
    "view = nglview.NGLWidget() \n",
    "view.camera = 'orthographic'\n",
    "ref_pose = mdtraj.load(f'reference_structure/{ligand}_0A.inpcrd',top=f'reference_structure/{ligand}.prmtop')\n",
    "colors = ['red','orange','yellow','green','blue','purple']\n",
    "comp = mdtraj.load_mdcrd(f'Simulation/{ligand}_0/MD_R1.nc',top=f'Structure/prmtop/{ligand}.prmtop')\n",
    "comp.superpose(ref_pose, atom_indices=range(700))\n",
    "c = view.add_trajectory(comp)\n",
    "c.clear()\n",
    "\n",
    "c.add_cartoon(selection=\"protein\")\n",
    "#                 c[ii].add_surface(selection=\"protein\", opacity=0.3)\n",
    "c.add_licorice(selection='33')\n",
    "c.add_licorice(selection=\"protein\",opacity=0.25)\n",
    "# c.add_licorice(selection='56',color,opacity=0.6)/\n",
    "c.add_ball_and_stick(selection='56',opacity=1)\n",
    "c2 = view.add_trajectory(ref_pose[-1])\n",
    "c2.clear()\n",
    "c2.add_ball_and_stick(selection='56',color='red',opacity=0.6)\n",
    "\n",
    "view"
   ]
  },
  {
   "cell_type": "code",
   "execution_count": 9,
   "id": "6e656478-0708-427e-96b0-1308c98cb85f",
   "metadata": {},
   "outputs": [
    {
     "data": {
      "application/vnd.jupyter.widget-view+json": {
       "model_id": "1968b3151b1348968c7ed769a62a0dd3",
       "version_major": 2,
       "version_minor": 0
      },
      "text/plain": [
       "NGLWidget()"
      ]
     },
     "metadata": {},
     "output_type": "display_data"
    }
   ],
   "source": [
    "import nglview\n",
    "from nglview.player import TrajectoryPlayer\n",
    "ligand='Mpro-x10959'\n",
    "view = nglview.NGLWidget() \n",
    "view.camera = 'orthographic'\n",
    "c = {}\n",
    "comp = {}\n",
    "actualComp = {}\n",
    "ac = {}\n",
    "ref_pose = mdtraj.load(f'reference_structure/{ligand}_0A.inpcrd',top=f'reference_structure/{ligand}.prmtop')\n",
    "colors = ['red','orange','yellow','green','blue','purple']\n",
    "for idx, ii in enumerate(np.arange(12,18, dtype=int)):\n",
    "    comp[ii] = mdtraj.load(f'Structure/inpcrd/{ligand}_{ii}.inpcrd',top=f'Structure/prmtop/{ligand}.prmtop')\n",
    "    c[ii] = view.add_trajectory(comp[ii])\n",
    "    c[ii].clear()\n",
    "    if idx == 0:\n",
    "        c[ii].add_cartoon(selection=\"protein\")\n",
    "#                 c[ii].add_surface(selection=\"protein\", opacity=0.3)\n",
    "        c[ii].add_licorice(selection='33')\n",
    "        c[ii].add_licorice(selection=\"protein\",opacity=0.25)\n",
    "    c[ii].add_licorice(selection='56',color=colors[idx%6],opacity=0.6)\n",
    "#             c[ii].add_ball_and_stick(selection='56',opacity=0.3)\n",
    "c2 = view.add_trajectory(ref_pose[-1])\n",
    "c2.clear()\n",
    "c2.add_ball_and_stick(selection='56')\n",
    "\n",
    "view"
   ]
  },
  {
   "cell_type": "code",
   "execution_count": 65,
   "id": "e615a952-9fdd-4be5-a817-eee3e3a2335d",
   "metadata": {},
   "outputs": [
    {
     "name": "stdout",
     "output_type": "stream",
     "text": [
      "Can't load CuPy, fall back to numba\n",
      "Stride factor is 4 (number of frames: 17130)\n"
     ]
    },
    {
     "ename": "KeyboardInterrupt",
     "evalue": "",
     "output_type": "error",
     "traceback": [
      "\u001b[0;31m---------------------------------------------------------------------------\u001b[0m",
      "\u001b[0;31mKeyboardInterrupt\u001b[0m                         Traceback (most recent call last)",
      "\u001b[0;32m/tmp/ipykernel_33615/2168022129.py\u001b[0m in \u001b[0;36m<module>\u001b[0;34m\u001b[0m\n\u001b[1;32m      1\u001b[0m \u001b[0mimportlib\u001b[0m\u001b[0;34m.\u001b[0m\u001b[0mreload\u001b[0m\u001b[0;34m(\u001b[0m\u001b[0mMDR_cluster\u001b[0m\u001b[0;34m)\u001b[0m\u001b[0;34m\u001b[0m\u001b[0;34m\u001b[0m\u001b[0m\n\u001b[1;32m      2\u001b[0m \u001b[0;32mfrom\u001b[0m \u001b[0mMDR_cluster\u001b[0m \u001b[0;32mimport\u001b[0m \u001b[0mgimme_best_pose\u001b[0m\u001b[0;34m\u001b[0m\u001b[0;34m\u001b[0m\u001b[0m\n\u001b[0;32m----> 3\u001b[0;31m \u001b[0mgimme_best_pose\u001b[0m\u001b[0;34m(\u001b[0m\u001b[0mMDR\u001b[0m\u001b[0;34m,\u001b[0m \u001b[0mligand\u001b[0m\u001b[0;34m=\u001b[0m\u001b[0mtest_this_one\u001b[0m\u001b[0;34m,\u001b[0m \u001b[0mtop_select\u001b[0m\u001b[0;34m=\u001b[0m\u001b[0;36m2\u001b[0m\u001b[0;34m,\u001b[0m \u001b[0mfilter_dist\u001b[0m\u001b[0;34m=\u001b[0m\u001b[0;32mTrue\u001b[0m\u001b[0;34m,\u001b[0m \u001b[0mplot\u001b[0m\u001b[0;34m=\u001b[0m\u001b[0;32mTrue\u001b[0m\u001b[0;34m,\u001b[0m \u001b[0mmin_size_multiplier\u001b[0m\u001b[0;34m=\u001b[0m\u001b[0;36m1\u001b[0m\u001b[0;34m,\u001b[0m \u001b[0mcluster_min_samples\u001b[0m\u001b[0;34m=\u001b[0m\u001b[0;36m5\u001b[0m\u001b[0;34m,\u001b[0m \u001b[0meps\u001b[0m\u001b[0;34m=\u001b[0m\u001b[0;36m0.5\u001b[0m\u001b[0;34m)\u001b[0m\u001b[0;34m\u001b[0m\u001b[0;34m\u001b[0m\u001b[0m\n\u001b[0m",
      "\u001b[0;32m/gpfs/alpine/stf006/scratch/djh992/10_amber_mdgx/Fragnalysis_amber_310K_fix_CA/../MDR_analysis/MDR_cluster.py\u001b[0m in \u001b[0;36mgimme_best_pose\u001b[0;34m(MDR, ligand, metric, filter_dist, filter_dist_thres, top_select, plot, cluster_min_samples, eps, min_size_multiplier, speed, show_pose)\u001b[0m\n\u001b[1;32m    109\u001b[0m         \u001b[0mrmsd_cluster\u001b[0m \u001b[0;34m=\u001b[0m \u001b[0mpureRMSDcupy\u001b[0m\u001b[0;34m(\u001b[0m\u001b[0mtrajAgg\u001b[0m\u001b[0;34m[\u001b[0m\u001b[0;34m:\u001b[0m\u001b[0;34m:\u001b[0m\u001b[0mstride\u001b[0m\u001b[0;34m]\u001b[0m\u001b[0;34m)\u001b[0m\u001b[0;34m\u001b[0m\u001b[0;34m\u001b[0m\u001b[0m\n\u001b[1;32m    110\u001b[0m     \u001b[0;32melse\u001b[0m\u001b[0;34m:\u001b[0m\u001b[0;34m\u001b[0m\u001b[0;34m\u001b[0m\u001b[0m\n\u001b[0;32m--> 111\u001b[0;31m         \u001b[0mrmsd_cluster\u001b[0m \u001b[0;34m=\u001b[0m \u001b[0mpureRMSDself\u001b[0m\u001b[0;34m(\u001b[0m\u001b[0mtrajAgg\u001b[0m\u001b[0;34m[\u001b[0m\u001b[0;34m:\u001b[0m\u001b[0;34m:\u001b[0m\u001b[0mstride\u001b[0m\u001b[0;34m]\u001b[0m\u001b[0;34m)\u001b[0m\u001b[0;34m\u001b[0m\u001b[0;34m\u001b[0m\u001b[0m\n\u001b[0m\u001b[1;32m    112\u001b[0m     \u001b[0mprint\u001b[0m\u001b[0;34m(\u001b[0m\u001b[0;34mf'RMSD calculation done on {len(trajAgg[::stride])} frames.'\u001b[0m\u001b[0;34m)\u001b[0m\u001b[0;34m\u001b[0m\u001b[0;34m\u001b[0m\u001b[0m\n\u001b[1;32m    113\u001b[0m \u001b[0;34m\u001b[0m\u001b[0m\n",
      "\u001b[0;31mKeyboardInterrupt\u001b[0m: "
     ]
    }
   ],
   "source": [
    "importlib.reload(MDR_cluster)\n",
    "from MDR_cluster import gimme_best_pose\n",
    "gimme_best_pose(MDR, ligand=test_this_one, top_select=2, filter_dist=True, plot=True, min_size_multiplier=1, cluster_min_samples=5, eps=0.5)"
   ]
  },
  {
   "cell_type": "code",
   "execution_count": 14,
   "id": "683c65db-c722-422c-bd45-aa9b16fac389",
   "metadata": {},
   "outputs": [
    {
     "data": {
      "text/plain": [
       "(array([ 0.,  1., 12., 20.,  9., 13.,  8.,  3.,  4.,  0.,  0.,  1.,  3.,\n",
       "         2.,  2.,  0.,  0.,  1.,  0.,  0.]),\n",
       " array([ 0. ,  0.5,  1. ,  1.5,  2. ,  2.5,  3. ,  3.5,  4. ,  4.5,  5. ,\n",
       "         5.5,  6. ,  6.5,  7. ,  7.5,  8. ,  8.5,  9. ,  9.5, 10. ]),\n",
       " <BarContainer object of 20 artists>)"
      ]
     },
     "execution_count": 14,
     "metadata": {},
     "output_type": "execute_result"
    },
    {
     "data": {
      "image/png": "[encoded data removed]",
      "text/plain": [
       "<Figure size 432x288 with 1 Axes>"
      ]
     },
     "metadata": {
      "needs_background": "light"
     },
     "output_type": "display_data"
    }
   ],
   "source": [
    "import matplotlib.pyplot as plt\n",
    "plt.hist(rmsd_group, bins=np.linspace(0,10,21))\n",
    "# plt.plot(rmsd_group, np.zeros_like(rmsd_group),'x')\n",
    "# plt.xlim([0,10])\n"
   ]
  },
  {
   "cell_type": "code",
   "execution_count": 28,
   "id": "34428cc2-5418-4157-89e5-0218d96b7c47",
   "metadata": {},
   "outputs": [
    {
     "data": {
      "text/plain": [
       "42"
      ]
     },
     "execution_count": 28,
     "metadata": {},
     "output_type": "execute_result"
    }
   ],
   "source": [
    "print(len([True for ii in rmsd_group if ii < 2.5]))\n",
    "print(len(rmsd_group))"
   ]
  },
  {
   "cell_type": "code",
   "execution_count": 99,
   "id": "4ae7997a-f31f-43be-96b6-7e4f81203f52",
   "metadata": {},
   "outputs": [
    {
     "name": "stdout",
     "output_type": "stream",
     "text": [
      "45\n",
      "80\n"
     ]
    }
   ],
   "source": [
    "print(len([True for ii in rmsd_group if ii < 2.5]))\n",
    "print(len(rmsd_group))"
   ]
  },
  {
   "cell_type": "code",
   "execution_count": 101,
   "id": "d1eb2a40-7aa3-4688-bd01-2e6aabaaeccb",
   "metadata": {},
   "outputs": [
    {
     "name": "stdout",
     "output_type": "stream",
     "text": [
      "49\n",
      "80\n"
     ]
    }
   ],
   "source": [
    "print(len([True for ii in rmsd_group if ii < 2.5]))\n",
    "print(len(rmsd_group))"
   ]
  },
  {
   "cell_type": "code",
   "execution_count": 16,
   "id": "55238615-3e77-4f67-8351-11a4f55f15a2",
   "metadata": {},
   "outputs": [
    {
     "name": "stdout",
     "output_type": "stream",
     "text": [
      "45\n",
      "82\n"
     ]
    }
   ],
   "source": [
    "print(len([True for ii in rmsd_group if np.min(ii) < 2.5]))\n",
    "print(len(rmsd_group))"
   ]
  },
  {
   "cell_type": "code",
   "execution_count": 22,
   "id": "2b755a9d-3d65-47a6-beb5-3a93f2b88eec",
   "metadata": {},
   "outputs": [
    {
     "name": "stdout",
     "output_type": "stream",
     "text": [
      "49\n",
      "81\n"
     ]
    },
    {
     "name": "stderr",
     "output_type": "stream",
     "text": [
      "<ipython-input-22-f3b5a9008d96>:1: VisibleDeprecationWarning: Creating an ndarray from ragged nested sequences (which is a list-or-tuple of lists-or-tuples-or ndarrays with different lengths or shapes) is deprecated. If you meant to do this, you must specify 'dtype=object' when creating the ndarray\n",
      "  rmsd_grouproup = np.array(rmsd_group)\n"
     ]
    }
   ],
   "source": [
    "rmsd_grouproup = np.array(rmsd_group)\n",
    "print(len([True for ii in rmsd_group if np.min(ii) < 2.5]))\n",
    "print(len(rmsd_group))"
   ]
  },
  {
   "cell_type": "code",
   "execution_count": 13,
   "id": "f1427959-c942-46f6-956c-70af484299c3",
   "metadata": {},
   "outputs": [
    {
     "name": "stdout",
     "output_type": "stream",
     "text": [
      "51\n",
      "81\n"
     ]
    }
   ],
   "source": [
    "rmsd_grouproup = np.array(rmsd_group)\n",
    "print(len([True for ii in rmsd_group if np.min(ii) < 2.5]))\n",
    "print(len(rmsd_group))"
   ]
  },
  {
   "cell_type": "code",
   "execution_count": 74,
   "id": "dae7e544-603d-4fad-a27b-7d8c4d6de908",
   "metadata": {},
   "outputs": [
    {
     "name": "stdout",
     "output_type": "stream",
     "text": [
      "51\n",
      "81\n"
     ]
    }
   ],
   "source": [
    "rmsd_grouproup = np.array(rmsd_group)\n",
    "print(len([True for ii in rmsd_group if np.min(ii) < 2.5]))\n",
    "print(len(rmsd_group))"
   ]
  },
  {
   "cell_type": "code",
   "execution_count": 76,
   "id": "8b092767-a252-4fa6-ad70-7861a3b86ab1",
   "metadata": {},
   "outputs": [
    {
     "name": "stdout",
     "output_type": "stream",
     "text": [
      "54\n",
      "81\n"
     ]
    }
   ],
   "source": [
    "rmsd_grouproup = np.array(rmsd_group)\n",
    "print(len([True for ii in rmsd_group if np.min(ii) < 2.5]))\n",
    "print(len(rmsd_group))"
   ]
  },
  {
   "cell_type": "code",
   "execution_count": 78,
   "id": "c716ec03-9f9f-4404-8575-ec7b5d6e2104",
   "metadata": {},
   "outputs": [
    {
     "name": "stdout",
     "output_type": "stream",
     "text": [
      "54\n",
      "81\n"
     ]
    }
   ],
   "source": [
    "rmsd_grouproup = np.array(rmsd_group)\n",
    "print(len([True for ii in rmsd_group if np.min(ii) < 2.5]))\n",
    "print(len(rmsd_group))"
   ]
  },
  {
   "cell_type": "code",
   "execution_count": 39,
   "id": "8a9f3e65-7a11-46d4-ae53-0abf739ba028",
   "metadata": {},
   "outputs": [
    {
     "data": {
      "image/png": "[encoded data removed]",
      "text/plain": [
       "<Figure size 1152x2160 with 105 Axes>"
      ]
     },
     "metadata": {
      "needs_background": "light"
     },
     "output_type": "display_data"
    }
   ],
   "source": [
    "import matplotlib.pyplot as plt\n",
    "fig, axs = plt.subplots(figsize=(16,30), nrows=(len(MDR.Ligands)+5)//5, ncols=5, sharex='col', sharey='row')\n",
    "for idx, ligKey in enumerate(MDR.Ligands.keys()):\n",
    "    rmsd_end = []\n",
    "    vdW_end = []\n",
    "    for poseKey in MDR.Ligands[ligKey].Poses.keys():\n",
    "        if MDR.Ligands[ligKey].Poses[poseKey].traj['EM'][0].RMSD[-1] < 10 and \\\n",
    "        MDR.Ligands[ligKey].Poses[poseKey].traj['EM'][0].output['vdW'].values[-1] < 0:\n",
    "            rmsd_end.append(MDR.Ligands[ligKey].Poses[poseKey].traj['EM'][0].RMSD[-1])\n",
    "            vdW_end.append(MDR.Ligands[ligKey].Poses[poseKey].traj['EM'][0].output['vdW'].values[-1])\n",
    "    axs[idx//5, idx%5].scatter(rmsd_end, vdW_end)\n",
    "    axs[idx//5, idx%5].text(2, -140, f'{ligKey}')\n",
    "    \n",
    "fig.subplots_adjust(wspace=0.00, hspace=0.00)\n",
    "#     axs[idx//5, idx%5].set_xlim([0,10])\n",
    "#     axs[idx//5, idx%5].set_ylim([-200,0])\n",
    "    "
   ]
  },
  {
   "cell_type": "code",
   "execution_count": 19,
   "id": "2deb2ace-af60-4dba-afd9-913102e83868",
   "metadata": {},
   "outputs": [
    {
     "data": {
      "text/plain": [
       "<MDR_base.mdgxTrajectory at 0x7fd28b302d90>"
      ]
     },
     "execution_count": 19,
     "metadata": {},
     "output_type": "execute_result"
    }
   ],
   "source": [
    "MDR.Ligands[ligKey].Poses[poseKey].traj['EM'][0]"
   ]
  },
  {
   "cell_type": "code",
   "execution_count": null,
   "id": "b124671b-2593-42f7-8a88-1565b0358f6c",
   "metadata": {},
   "outputs": [],
   "source": []
  }
 ],
 "metadata": {
  "kernelspec": {
   "display_name": "OLCF-base (ipykernel)",
   "language": "python",
   "name": "python3"
  },
  "language_info": {
   "codemirror_mode": {
    "name": "ipython",
    "version": 3
   },
   "file_extension": ".py",
   "mimetype": "text/x-python",
   "name": "python",
   "nbconvert_exporter": "python",
   "pygments_lexer": "ipython3",
   "version": "3.8.10"
  }
 },
 "nbformat": 4,
 "nbformat_minor": 5
}
